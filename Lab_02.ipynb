{
  "nbformat": 4,
  "nbformat_minor": 0,
  "metadata": {
    "colab": {
      "provenance": []
    },
    "kernelspec": {
      "name": "python3",
      "display_name": "Python 3"
    },
    "language_info": {
      "name": "python"
    }
  },
  "cells": [
    {
      "cell_type": "code",
      "execution_count": null,
      "metadata": {
        "id": "lwsmhI9IyGl5"
      },
      "outputs": [],
      "source": [
        "#importing libraries and packages\n",
        "import pandas as pd\n",
        "import math"
      ]
    },
    {
      "cell_type": "code",
      "source": [
        "df = pd.read_csv(\"sample_nb.csv\")\n",
        "df"
      ],
      "metadata": {
        "id": "vkCGDNj137Wi",
        "colab": {
          "base_uri": "https://localhost:8080/",
          "height": 363
        },
        "outputId": "8c4b0a61-8ccb-47cb-e2c7-c913d91c39f4"
      },
      "execution_count": null,
      "outputs": [
        {
          "output_type": "execute_result",
          "data": {
            "text/plain": [
              "   Sl  Age  Income Student Credit Rating Buys Computer\n",
              "0   1   35  Medium     Yes          Fair           Yes\n",
              "1   2   30    High      No       Average            No\n",
              "2   3   40     Low     Yes          Good            No\n",
              "3   4   35  Medium      No          Fair           Yes\n",
              "4   5   45     Low      No          Fair           Yes\n",
              "5   6   35    High      No     Excellent           Yes\n",
              "6   7   35  Medium      No          Good            No\n",
              "7   8   25     Low      No          Good           Yes\n",
              "8   9   28    High      No       Average            No\n",
              "9  10   35  Medium     Yes       Average           Yes"
            ],
            "text/html": [
              "\n",
              "  <div id=\"df-7ef1196a-2d14-481b-a93e-662aed8bf8ca\">\n",
              "    <div class=\"colab-df-container\">\n",
              "      <div>\n",
              "<style scoped>\n",
              "    .dataframe tbody tr th:only-of-type {\n",
              "        vertical-align: middle;\n",
              "    }\n",
              "\n",
              "    .dataframe tbody tr th {\n",
              "        vertical-align: top;\n",
              "    }\n",
              "\n",
              "    .dataframe thead th {\n",
              "        text-align: right;\n",
              "    }\n",
              "</style>\n",
              "<table border=\"1\" class=\"dataframe\">\n",
              "  <thead>\n",
              "    <tr style=\"text-align: right;\">\n",
              "      <th></th>\n",
              "      <th>Sl</th>\n",
              "      <th>Age</th>\n",
              "      <th>Income</th>\n",
              "      <th>Student</th>\n",
              "      <th>Credit Rating</th>\n",
              "      <th>Buys Computer</th>\n",
              "    </tr>\n",
              "  </thead>\n",
              "  <tbody>\n",
              "    <tr>\n",
              "      <th>0</th>\n",
              "      <td>1</td>\n",
              "      <td>35</td>\n",
              "      <td>Medium</td>\n",
              "      <td>Yes</td>\n",
              "      <td>Fair</td>\n",
              "      <td>Yes</td>\n",
              "    </tr>\n",
              "    <tr>\n",
              "      <th>1</th>\n",
              "      <td>2</td>\n",
              "      <td>30</td>\n",
              "      <td>High</td>\n",
              "      <td>No</td>\n",
              "      <td>Average</td>\n",
              "      <td>No</td>\n",
              "    </tr>\n",
              "    <tr>\n",
              "      <th>2</th>\n",
              "      <td>3</td>\n",
              "      <td>40</td>\n",
              "      <td>Low</td>\n",
              "      <td>Yes</td>\n",
              "      <td>Good</td>\n",
              "      <td>No</td>\n",
              "    </tr>\n",
              "    <tr>\n",
              "      <th>3</th>\n",
              "      <td>4</td>\n",
              "      <td>35</td>\n",
              "      <td>Medium</td>\n",
              "      <td>No</td>\n",
              "      <td>Fair</td>\n",
              "      <td>Yes</td>\n",
              "    </tr>\n",
              "    <tr>\n",
              "      <th>4</th>\n",
              "      <td>5</td>\n",
              "      <td>45</td>\n",
              "      <td>Low</td>\n",
              "      <td>No</td>\n",
              "      <td>Fair</td>\n",
              "      <td>Yes</td>\n",
              "    </tr>\n",
              "    <tr>\n",
              "      <th>5</th>\n",
              "      <td>6</td>\n",
              "      <td>35</td>\n",
              "      <td>High</td>\n",
              "      <td>No</td>\n",
              "      <td>Excellent</td>\n",
              "      <td>Yes</td>\n",
              "    </tr>\n",
              "    <tr>\n",
              "      <th>6</th>\n",
              "      <td>7</td>\n",
              "      <td>35</td>\n",
              "      <td>Medium</td>\n",
              "      <td>No</td>\n",
              "      <td>Good</td>\n",
              "      <td>No</td>\n",
              "    </tr>\n",
              "    <tr>\n",
              "      <th>7</th>\n",
              "      <td>8</td>\n",
              "      <td>25</td>\n",
              "      <td>Low</td>\n",
              "      <td>No</td>\n",
              "      <td>Good</td>\n",
              "      <td>Yes</td>\n",
              "    </tr>\n",
              "    <tr>\n",
              "      <th>8</th>\n",
              "      <td>9</td>\n",
              "      <td>28</td>\n",
              "      <td>High</td>\n",
              "      <td>No</td>\n",
              "      <td>Average</td>\n",
              "      <td>No</td>\n",
              "    </tr>\n",
              "    <tr>\n",
              "      <th>9</th>\n",
              "      <td>10</td>\n",
              "      <td>35</td>\n",
              "      <td>Medium</td>\n",
              "      <td>Yes</td>\n",
              "      <td>Average</td>\n",
              "      <td>Yes</td>\n",
              "    </tr>\n",
              "  </tbody>\n",
              "</table>\n",
              "</div>\n",
              "      <button class=\"colab-df-convert\" onclick=\"convertToInteractive('df-7ef1196a-2d14-481b-a93e-662aed8bf8ca')\"\n",
              "              title=\"Convert this dataframe to an interactive table.\"\n",
              "              style=\"display:none;\">\n",
              "        \n",
              "  <svg xmlns=\"http://www.w3.org/2000/svg\" height=\"24px\"viewBox=\"0 0 24 24\"\n",
              "       width=\"24px\">\n",
              "    <path d=\"M0 0h24v24H0V0z\" fill=\"none\"/>\n",
              "    <path d=\"M18.56 5.44l.94 2.06.94-2.06 2.06-.94-2.06-.94-.94-2.06-.94 2.06-2.06.94zm-11 1L8.5 8.5l.94-2.06 2.06-.94-2.06-.94L8.5 2.5l-.94 2.06-2.06.94zm10 10l.94 2.06.94-2.06 2.06-.94-2.06-.94-.94-2.06-.94 2.06-2.06.94z\"/><path d=\"M17.41 7.96l-1.37-1.37c-.4-.4-.92-.59-1.43-.59-.52 0-1.04.2-1.43.59L10.3 9.45l-7.72 7.72c-.78.78-.78 2.05 0 2.83L4 21.41c.39.39.9.59 1.41.59.51 0 1.02-.2 1.41-.59l7.78-7.78 2.81-2.81c.8-.78.8-2.07 0-2.86zM5.41 20L4 18.59l7.72-7.72 1.47 1.35L5.41 20z\"/>\n",
              "  </svg>\n",
              "      </button>\n",
              "      \n",
              "  <style>\n",
              "    .colab-df-container {\n",
              "      display:flex;\n",
              "      flex-wrap:wrap;\n",
              "      gap: 12px;\n",
              "    }\n",
              "\n",
              "    .colab-df-convert {\n",
              "      background-color: #E8F0FE;\n",
              "      border: none;\n",
              "      border-radius: 50%;\n",
              "      cursor: pointer;\n",
              "      display: none;\n",
              "      fill: #1967D2;\n",
              "      height: 32px;\n",
              "      padding: 0 0 0 0;\n",
              "      width: 32px;\n",
              "    }\n",
              "\n",
              "    .colab-df-convert:hover {\n",
              "      background-color: #E2EBFA;\n",
              "      box-shadow: 0px 1px 2px rgba(60, 64, 67, 0.3), 0px 1px 3px 1px rgba(60, 64, 67, 0.15);\n",
              "      fill: #174EA6;\n",
              "    }\n",
              "\n",
              "    [theme=dark] .colab-df-convert {\n",
              "      background-color: #3B4455;\n",
              "      fill: #D2E3FC;\n",
              "    }\n",
              "\n",
              "    [theme=dark] .colab-df-convert:hover {\n",
              "      background-color: #434B5C;\n",
              "      box-shadow: 0px 1px 3px 1px rgba(0, 0, 0, 0.15);\n",
              "      filter: drop-shadow(0px 1px 2px rgba(0, 0, 0, 0.3));\n",
              "      fill: #FFFFFF;\n",
              "    }\n",
              "  </style>\n",
              "\n",
              "      <script>\n",
              "        const buttonEl =\n",
              "          document.querySelector('#df-7ef1196a-2d14-481b-a93e-662aed8bf8ca button.colab-df-convert');\n",
              "        buttonEl.style.display =\n",
              "          google.colab.kernel.accessAllowed ? 'block' : 'none';\n",
              "\n",
              "        async function convertToInteractive(key) {\n",
              "          const element = document.querySelector('#df-7ef1196a-2d14-481b-a93e-662aed8bf8ca');\n",
              "          const dataTable =\n",
              "            await google.colab.kernel.invokeFunction('convertToInteractive',\n",
              "                                                     [key], {});\n",
              "          if (!dataTable) return;\n",
              "\n",
              "          const docLinkHtml = 'Like what you see? Visit the ' +\n",
              "            '<a target=\"_blank\" href=https://colab.research.google.com/notebooks/data_table.ipynb>data table notebook</a>'\n",
              "            + ' to learn more about interactive tables.';\n",
              "          element.innerHTML = '';\n",
              "          dataTable['output_type'] = 'display_data';\n",
              "          await google.colab.output.renderOutput(dataTable, element);\n",
              "          const docLink = document.createElement('div');\n",
              "          docLink.innerHTML = docLinkHtml;\n",
              "          element.appendChild(docLink);\n",
              "        }\n",
              "      </script>\n",
              "    </div>\n",
              "  </div>\n",
              "  "
            ]
          },
          "metadata": {},
          "execution_count": 13
        }
      ]
    },
    {
      "cell_type": "code",
      "source": [
        "def prior(c):\n",
        "  class_counts = df[c].value_counts()\n",
        "  n_samples = df.shape[0]\n",
        "  priors = class_counts / n_samples\n",
        "  return priors"
      ],
      "metadata": {
        "id": "6RZSP0V74IKb"
      },
      "execution_count": null,
      "outputs": []
    },
    {
      "cell_type": "code",
      "source": [
        "p_buysComputer= prior('Buys Computer')\n",
        "print(p_buysComputer['Yes'])\n",
        "print(p_buysComputer['No'])"
      ],
      "metadata": {
        "colab": {
          "base_uri": "https://localhost:8080/"
        },
        "id": "kz7qZtUg4VKD",
        "outputId": "0dd5c37a-cb53-4a03-a013-2672918cfca1"
      },
      "execution_count": null,
      "outputs": [
        {
          "output_type": "stream",
          "name": "stdout",
          "text": [
            "0.6\n",
            "0.4\n"
          ]
        }
      ]
    },
    {
      "cell_type": "code",
      "source": [
        "# Need to determine whether a person will buy a computer or not if age is below 30, income is medium, person is student and credit rating is fair"
      ],
      "metadata": {
        "id": "FRa9we3inaGH"
      },
      "execution_count": null,
      "outputs": []
    },
    {
      "cell_type": "code",
      "source": [
        "def age_group(age):\n",
        "    if age < 30:\n",
        "        return 'Age<30'\n",
        "    elif age >= 30 and age < 40:\n",
        "        return 'Age:30-40'\n",
        "    else:\n",
        "        return 'Age>40'\n",
        "def income_group(income):\n",
        "  if income == 'Medium':\n",
        "    return 'M_Income'\n",
        "  elif income == 'High':\n",
        "    return 'H_Income'\n",
        "  elif income == 'Low':\n",
        "    return 'L_Income'\n",
        "\n",
        "def student_group(student):\n",
        "  if student == 'Yes':\n",
        "    return 'Is Student'\n",
        "  elif student == 'No':\n",
        "    return 'No Student'\n",
        "\n",
        "def credit_rating_group(cr):\n",
        "  if cr == 'Fair':\n",
        "    return 'Fair CR'\n",
        "  elif cr == 'Good':\n",
        "    return 'Good CR'\n",
        "  elif cr == 'Excellent':\n",
        "    return 'Excellent CR'\n",
        "def bc_group(bc):\n",
        "  if bc == 'Yes':\n",
        "    return 'Buy Computer'\n",
        "  elif bc == 'No':\n",
        "    return 'Not Buys Computer'\n",
        "\n",
        "\n",
        "df['Income'] = df['Income'].apply(income_group)\n",
        "df['Student'] = df['Student'].apply(student_group)\n",
        "df['Credit Rating'] = df['Credit Rating'].apply(credit_rating_group)\n",
        "df['Buys Computer'] = df['Buys Computer'].apply(bc_group)\n",
        "df['Age'] = df['Age'].apply(age_group)\n",
        "df"
      ],
      "metadata": {
        "colab": {
          "base_uri": "https://localhost:8080/",
          "height": 363
        },
        "id": "IBJXITRjx-9O",
        "outputId": "c9481213-ea62-4e51-9a1a-6f1cf4f5084f"
      },
      "execution_count": null,
      "outputs": [
        {
          "output_type": "execute_result",
          "data": {
            "text/plain": [
              "   Sl        Age    Income     Student Credit Rating      Buys Computer\n",
              "0   1  Age:30-40  M_Income  Is Student       Fair CR       Buy Computer\n",
              "1   2  Age:30-40  H_Income  No Student          None  Not Buys Computer\n",
              "2   3     Age>40  L_Income  Is Student       Good CR  Not Buys Computer\n",
              "3   4  Age:30-40  M_Income  No Student       Fair CR       Buy Computer\n",
              "4   5     Age>40  L_Income  No Student       Fair CR       Buy Computer\n",
              "5   6  Age:30-40  H_Income  No Student  Excellent CR       Buy Computer\n",
              "6   7  Age:30-40  M_Income  No Student       Good CR  Not Buys Computer\n",
              "7   8     Age<30  L_Income  No Student       Good CR       Buy Computer\n",
              "8   9     Age<30  H_Income  No Student          None  Not Buys Computer\n",
              "9  10  Age:30-40  M_Income  Is Student          None       Buy Computer"
            ],
            "text/html": [
              "\n",
              "  <div id=\"df-8785e10e-0408-4238-825e-8c4994433d47\">\n",
              "    <div class=\"colab-df-container\">\n",
              "      <div>\n",
              "<style scoped>\n",
              "    .dataframe tbody tr th:only-of-type {\n",
              "        vertical-align: middle;\n",
              "    }\n",
              "\n",
              "    .dataframe tbody tr th {\n",
              "        vertical-align: top;\n",
              "    }\n",
              "\n",
              "    .dataframe thead th {\n",
              "        text-align: right;\n",
              "    }\n",
              "</style>\n",
              "<table border=\"1\" class=\"dataframe\">\n",
              "  <thead>\n",
              "    <tr style=\"text-align: right;\">\n",
              "      <th></th>\n",
              "      <th>Sl</th>\n",
              "      <th>Age</th>\n",
              "      <th>Income</th>\n",
              "      <th>Student</th>\n",
              "      <th>Credit Rating</th>\n",
              "      <th>Buys Computer</th>\n",
              "    </tr>\n",
              "  </thead>\n",
              "  <tbody>\n",
              "    <tr>\n",
              "      <th>0</th>\n",
              "      <td>1</td>\n",
              "      <td>Age:30-40</td>\n",
              "      <td>M_Income</td>\n",
              "      <td>Is Student</td>\n",
              "      <td>Fair CR</td>\n",
              "      <td>Buy Computer</td>\n",
              "    </tr>\n",
              "    <tr>\n",
              "      <th>1</th>\n",
              "      <td>2</td>\n",
              "      <td>Age:30-40</td>\n",
              "      <td>H_Income</td>\n",
              "      <td>No Student</td>\n",
              "      <td>None</td>\n",
              "      <td>Not Buys Computer</td>\n",
              "    </tr>\n",
              "    <tr>\n",
              "      <th>2</th>\n",
              "      <td>3</td>\n",
              "      <td>Age&gt;40</td>\n",
              "      <td>L_Income</td>\n",
              "      <td>Is Student</td>\n",
              "      <td>Good CR</td>\n",
              "      <td>Not Buys Computer</td>\n",
              "    </tr>\n",
              "    <tr>\n",
              "      <th>3</th>\n",
              "      <td>4</td>\n",
              "      <td>Age:30-40</td>\n",
              "      <td>M_Income</td>\n",
              "      <td>No Student</td>\n",
              "      <td>Fair CR</td>\n",
              "      <td>Buy Computer</td>\n",
              "    </tr>\n",
              "    <tr>\n",
              "      <th>4</th>\n",
              "      <td>5</td>\n",
              "      <td>Age&gt;40</td>\n",
              "      <td>L_Income</td>\n",
              "      <td>No Student</td>\n",
              "      <td>Fair CR</td>\n",
              "      <td>Buy Computer</td>\n",
              "    </tr>\n",
              "    <tr>\n",
              "      <th>5</th>\n",
              "      <td>6</td>\n",
              "      <td>Age:30-40</td>\n",
              "      <td>H_Income</td>\n",
              "      <td>No Student</td>\n",
              "      <td>Excellent CR</td>\n",
              "      <td>Buy Computer</td>\n",
              "    </tr>\n",
              "    <tr>\n",
              "      <th>6</th>\n",
              "      <td>7</td>\n",
              "      <td>Age:30-40</td>\n",
              "      <td>M_Income</td>\n",
              "      <td>No Student</td>\n",
              "      <td>Good CR</td>\n",
              "      <td>Not Buys Computer</td>\n",
              "    </tr>\n",
              "    <tr>\n",
              "      <th>7</th>\n",
              "      <td>8</td>\n",
              "      <td>Age&lt;30</td>\n",
              "      <td>L_Income</td>\n",
              "      <td>No Student</td>\n",
              "      <td>Good CR</td>\n",
              "      <td>Buy Computer</td>\n",
              "    </tr>\n",
              "    <tr>\n",
              "      <th>8</th>\n",
              "      <td>9</td>\n",
              "      <td>Age&lt;30</td>\n",
              "      <td>H_Income</td>\n",
              "      <td>No Student</td>\n",
              "      <td>None</td>\n",
              "      <td>Not Buys Computer</td>\n",
              "    </tr>\n",
              "    <tr>\n",
              "      <th>9</th>\n",
              "      <td>10</td>\n",
              "      <td>Age:30-40</td>\n",
              "      <td>M_Income</td>\n",
              "      <td>Is Student</td>\n",
              "      <td>None</td>\n",
              "      <td>Buy Computer</td>\n",
              "    </tr>\n",
              "  </tbody>\n",
              "</table>\n",
              "</div>\n",
              "      <button class=\"colab-df-convert\" onclick=\"convertToInteractive('df-8785e10e-0408-4238-825e-8c4994433d47')\"\n",
              "              title=\"Convert this dataframe to an interactive table.\"\n",
              "              style=\"display:none;\">\n",
              "        \n",
              "  <svg xmlns=\"http://www.w3.org/2000/svg\" height=\"24px\"viewBox=\"0 0 24 24\"\n",
              "       width=\"24px\">\n",
              "    <path d=\"M0 0h24v24H0V0z\" fill=\"none\"/>\n",
              "    <path d=\"M18.56 5.44l.94 2.06.94-2.06 2.06-.94-2.06-.94-.94-2.06-.94 2.06-2.06.94zm-11 1L8.5 8.5l.94-2.06 2.06-.94-2.06-.94L8.5 2.5l-.94 2.06-2.06.94zm10 10l.94 2.06.94-2.06 2.06-.94-2.06-.94-.94-2.06-.94 2.06-2.06.94z\"/><path d=\"M17.41 7.96l-1.37-1.37c-.4-.4-.92-.59-1.43-.59-.52 0-1.04.2-1.43.59L10.3 9.45l-7.72 7.72c-.78.78-.78 2.05 0 2.83L4 21.41c.39.39.9.59 1.41.59.51 0 1.02-.2 1.41-.59l7.78-7.78 2.81-2.81c.8-.78.8-2.07 0-2.86zM5.41 20L4 18.59l7.72-7.72 1.47 1.35L5.41 20z\"/>\n",
              "  </svg>\n",
              "      </button>\n",
              "      \n",
              "  <style>\n",
              "    .colab-df-container {\n",
              "      display:flex;\n",
              "      flex-wrap:wrap;\n",
              "      gap: 12px;\n",
              "    }\n",
              "\n",
              "    .colab-df-convert {\n",
              "      background-color: #E8F0FE;\n",
              "      border: none;\n",
              "      border-radius: 50%;\n",
              "      cursor: pointer;\n",
              "      display: none;\n",
              "      fill: #1967D2;\n",
              "      height: 32px;\n",
              "      padding: 0 0 0 0;\n",
              "      width: 32px;\n",
              "    }\n",
              "\n",
              "    .colab-df-convert:hover {\n",
              "      background-color: #E2EBFA;\n",
              "      box-shadow: 0px 1px 2px rgba(60, 64, 67, 0.3), 0px 1px 3px 1px rgba(60, 64, 67, 0.15);\n",
              "      fill: #174EA6;\n",
              "    }\n",
              "\n",
              "    [theme=dark] .colab-df-convert {\n",
              "      background-color: #3B4455;\n",
              "      fill: #D2E3FC;\n",
              "    }\n",
              "\n",
              "    [theme=dark] .colab-df-convert:hover {\n",
              "      background-color: #434B5C;\n",
              "      box-shadow: 0px 1px 3px 1px rgba(0, 0, 0, 0.15);\n",
              "      filter: drop-shadow(0px 1px 2px rgba(0, 0, 0, 0.3));\n",
              "      fill: #FFFFFF;\n",
              "    }\n",
              "  </style>\n",
              "\n",
              "      <script>\n",
              "        const buttonEl =\n",
              "          document.querySelector('#df-8785e10e-0408-4238-825e-8c4994433d47 button.colab-df-convert');\n",
              "        buttonEl.style.display =\n",
              "          google.colab.kernel.accessAllowed ? 'block' : 'none';\n",
              "\n",
              "        async function convertToInteractive(key) {\n",
              "          const element = document.querySelector('#df-8785e10e-0408-4238-825e-8c4994433d47');\n",
              "          const dataTable =\n",
              "            await google.colab.kernel.invokeFunction('convertToInteractive',\n",
              "                                                     [key], {});\n",
              "          if (!dataTable) return;\n",
              "\n",
              "          const docLinkHtml = 'Like what you see? Visit the ' +\n",
              "            '<a target=\"_blank\" href=https://colab.research.google.com/notebooks/data_table.ipynb>data table notebook</a>'\n",
              "            + ' to learn more about interactive tables.';\n",
              "          element.innerHTML = '';\n",
              "          dataTable['output_type'] = 'display_data';\n",
              "          await google.colab.output.renderOutput(dataTable, element);\n",
              "          const docLink = document.createElement('div');\n",
              "          docLink.innerHTML = docLinkHtml;\n",
              "          element.appendChild(docLink);\n",
              "        }\n",
              "      </script>\n",
              "    </div>\n",
              "  </div>\n",
              "  "
            ]
          },
          "metadata": {},
          "execution_count": 29
        }
      ]
    },
    {
      "cell_type": "code",
      "source": [
        "c_age = pd.get_dummies(df.Age)\n",
        "c_income = pd.get_dummies(df.Income)\n",
        "c_student = pd.get_dummies(df.Student)\n",
        "c_cr = pd.get_dummies(df['Credit Rating'])\n",
        "c_buys_computer = pd.get_dummies(df['Buys Computer'])\n",
        "df = pd.concat([df, c_income, c_student, c_cr, c_age, c_buys_computer],axis = 'columns')\n",
        "df.drop(['Income','Student','Credit Rating','Age', 'Buys Computer'],axis = 'columns', inplace = True)\n",
        "\n",
        "df"
      ],
      "metadata": {
        "colab": {
          "base_uri": "https://localhost:8080/",
          "height": 444
        },
        "id": "Qjnmlpvd1DX9",
        "outputId": "296cc93e-c340-4a67-c3ba-28057acf226e"
      },
      "execution_count": null,
      "outputs": [
        {
          "output_type": "execute_result",
          "data": {
            "text/plain": [
              "   Sl  H_Income  L_Income  M_Income  Is Student  No Student  Excellent CR  \\\n",
              "0   1         0         0         1           1           0             0   \n",
              "1   2         1         0         0           0           1             0   \n",
              "2   3         0         1         0           1           0             0   \n",
              "3   4         0         0         1           0           1             0   \n",
              "4   5         0         1         0           0           1             0   \n",
              "5   6         1         0         0           0           1             1   \n",
              "6   7         0         0         1           0           1             0   \n",
              "7   8         0         1         0           0           1             0   \n",
              "8   9         1         0         0           0           1             0   \n",
              "9  10         0         0         1           1           0             0   \n",
              "\n",
              "   Fair CR  Good CR  Age:30-40  Age<30  Age>40  Buy Computer  \\\n",
              "0        1        0          1       0       0             1   \n",
              "1        0        0          1       0       0             0   \n",
              "2        0        1          0       0       1             0   \n",
              "3        1        0          1       0       0             1   \n",
              "4        1        0          0       0       1             1   \n",
              "5        0        0          1       0       0             1   \n",
              "6        0        1          1       0       0             0   \n",
              "7        0        1          0       1       0             1   \n",
              "8        0        0          0       1       0             0   \n",
              "9        0        0          1       0       0             1   \n",
              "\n",
              "   Not Buys Computer  \n",
              "0                  0  \n",
              "1                  1  \n",
              "2                  1  \n",
              "3                  0  \n",
              "4                  0  \n",
              "5                  0  \n",
              "6                  1  \n",
              "7                  0  \n",
              "8                  1  \n",
              "9                  0  "
            ],
            "text/html": [
              "\n",
              "  <div id=\"df-c6556f42-ec3c-48cb-86de-93b93a6ad4ba\">\n",
              "    <div class=\"colab-df-container\">\n",
              "      <div>\n",
              "<style scoped>\n",
              "    .dataframe tbody tr th:only-of-type {\n",
              "        vertical-align: middle;\n",
              "    }\n",
              "\n",
              "    .dataframe tbody tr th {\n",
              "        vertical-align: top;\n",
              "    }\n",
              "\n",
              "    .dataframe thead th {\n",
              "        text-align: right;\n",
              "    }\n",
              "</style>\n",
              "<table border=\"1\" class=\"dataframe\">\n",
              "  <thead>\n",
              "    <tr style=\"text-align: right;\">\n",
              "      <th></th>\n",
              "      <th>Sl</th>\n",
              "      <th>H_Income</th>\n",
              "      <th>L_Income</th>\n",
              "      <th>M_Income</th>\n",
              "      <th>Is Student</th>\n",
              "      <th>No Student</th>\n",
              "      <th>Excellent CR</th>\n",
              "      <th>Fair CR</th>\n",
              "      <th>Good CR</th>\n",
              "      <th>Age:30-40</th>\n",
              "      <th>Age&lt;30</th>\n",
              "      <th>Age&gt;40</th>\n",
              "      <th>Buy Computer</th>\n",
              "      <th>Not Buys Computer</th>\n",
              "    </tr>\n",
              "  </thead>\n",
              "  <tbody>\n",
              "    <tr>\n",
              "      <th>0</th>\n",
              "      <td>1</td>\n",
              "      <td>0</td>\n",
              "      <td>0</td>\n",
              "      <td>1</td>\n",
              "      <td>1</td>\n",
              "      <td>0</td>\n",
              "      <td>0</td>\n",
              "      <td>1</td>\n",
              "      <td>0</td>\n",
              "      <td>1</td>\n",
              "      <td>0</td>\n",
              "      <td>0</td>\n",
              "      <td>1</td>\n",
              "      <td>0</td>\n",
              "    </tr>\n",
              "    <tr>\n",
              "      <th>1</th>\n",
              "      <td>2</td>\n",
              "      <td>1</td>\n",
              "      <td>0</td>\n",
              "      <td>0</td>\n",
              "      <td>0</td>\n",
              "      <td>1</td>\n",
              "      <td>0</td>\n",
              "      <td>0</td>\n",
              "      <td>0</td>\n",
              "      <td>1</td>\n",
              "      <td>0</td>\n",
              "      <td>0</td>\n",
              "      <td>0</td>\n",
              "      <td>1</td>\n",
              "    </tr>\n",
              "    <tr>\n",
              "      <th>2</th>\n",
              "      <td>3</td>\n",
              "      <td>0</td>\n",
              "      <td>1</td>\n",
              "      <td>0</td>\n",
              "      <td>1</td>\n",
              "      <td>0</td>\n",
              "      <td>0</td>\n",
              "      <td>0</td>\n",
              "      <td>1</td>\n",
              "      <td>0</td>\n",
              "      <td>0</td>\n",
              "      <td>1</td>\n",
              "      <td>0</td>\n",
              "      <td>1</td>\n",
              "    </tr>\n",
              "    <tr>\n",
              "      <th>3</th>\n",
              "      <td>4</td>\n",
              "      <td>0</td>\n",
              "      <td>0</td>\n",
              "      <td>1</td>\n",
              "      <td>0</td>\n",
              "      <td>1</td>\n",
              "      <td>0</td>\n",
              "      <td>1</td>\n",
              "      <td>0</td>\n",
              "      <td>1</td>\n",
              "      <td>0</td>\n",
              "      <td>0</td>\n",
              "      <td>1</td>\n",
              "      <td>0</td>\n",
              "    </tr>\n",
              "    <tr>\n",
              "      <th>4</th>\n",
              "      <td>5</td>\n",
              "      <td>0</td>\n",
              "      <td>1</td>\n",
              "      <td>0</td>\n",
              "      <td>0</td>\n",
              "      <td>1</td>\n",
              "      <td>0</td>\n",
              "      <td>1</td>\n",
              "      <td>0</td>\n",
              "      <td>0</td>\n",
              "      <td>0</td>\n",
              "      <td>1</td>\n",
              "      <td>1</td>\n",
              "      <td>0</td>\n",
              "    </tr>\n",
              "    <tr>\n",
              "      <th>5</th>\n",
              "      <td>6</td>\n",
              "      <td>1</td>\n",
              "      <td>0</td>\n",
              "      <td>0</td>\n",
              "      <td>0</td>\n",
              "      <td>1</td>\n",
              "      <td>1</td>\n",
              "      <td>0</td>\n",
              "      <td>0</td>\n",
              "      <td>1</td>\n",
              "      <td>0</td>\n",
              "      <td>0</td>\n",
              "      <td>1</td>\n",
              "      <td>0</td>\n",
              "    </tr>\n",
              "    <tr>\n",
              "      <th>6</th>\n",
              "      <td>7</td>\n",
              "      <td>0</td>\n",
              "      <td>0</td>\n",
              "      <td>1</td>\n",
              "      <td>0</td>\n",
              "      <td>1</td>\n",
              "      <td>0</td>\n",
              "      <td>0</td>\n",
              "      <td>1</td>\n",
              "      <td>1</td>\n",
              "      <td>0</td>\n",
              "      <td>0</td>\n",
              "      <td>0</td>\n",
              "      <td>1</td>\n",
              "    </tr>\n",
              "    <tr>\n",
              "      <th>7</th>\n",
              "      <td>8</td>\n",
              "      <td>0</td>\n",
              "      <td>1</td>\n",
              "      <td>0</td>\n",
              "      <td>0</td>\n",
              "      <td>1</td>\n",
              "      <td>0</td>\n",
              "      <td>0</td>\n",
              "      <td>1</td>\n",
              "      <td>0</td>\n",
              "      <td>1</td>\n",
              "      <td>0</td>\n",
              "      <td>1</td>\n",
              "      <td>0</td>\n",
              "    </tr>\n",
              "    <tr>\n",
              "      <th>8</th>\n",
              "      <td>9</td>\n",
              "      <td>1</td>\n",
              "      <td>0</td>\n",
              "      <td>0</td>\n",
              "      <td>0</td>\n",
              "      <td>1</td>\n",
              "      <td>0</td>\n",
              "      <td>0</td>\n",
              "      <td>0</td>\n",
              "      <td>0</td>\n",
              "      <td>1</td>\n",
              "      <td>0</td>\n",
              "      <td>0</td>\n",
              "      <td>1</td>\n",
              "    </tr>\n",
              "    <tr>\n",
              "      <th>9</th>\n",
              "      <td>10</td>\n",
              "      <td>0</td>\n",
              "      <td>0</td>\n",
              "      <td>1</td>\n",
              "      <td>1</td>\n",
              "      <td>0</td>\n",
              "      <td>0</td>\n",
              "      <td>0</td>\n",
              "      <td>0</td>\n",
              "      <td>1</td>\n",
              "      <td>0</td>\n",
              "      <td>0</td>\n",
              "      <td>1</td>\n",
              "      <td>0</td>\n",
              "    </tr>\n",
              "  </tbody>\n",
              "</table>\n",
              "</div>\n",
              "      <button class=\"colab-df-convert\" onclick=\"convertToInteractive('df-c6556f42-ec3c-48cb-86de-93b93a6ad4ba')\"\n",
              "              title=\"Convert this dataframe to an interactive table.\"\n",
              "              style=\"display:none;\">\n",
              "        \n",
              "  <svg xmlns=\"http://www.w3.org/2000/svg\" height=\"24px\"viewBox=\"0 0 24 24\"\n",
              "       width=\"24px\">\n",
              "    <path d=\"M0 0h24v24H0V0z\" fill=\"none\"/>\n",
              "    <path d=\"M18.56 5.44l.94 2.06.94-2.06 2.06-.94-2.06-.94-.94-2.06-.94 2.06-2.06.94zm-11 1L8.5 8.5l.94-2.06 2.06-.94-2.06-.94L8.5 2.5l-.94 2.06-2.06.94zm10 10l.94 2.06.94-2.06 2.06-.94-2.06-.94-.94-2.06-.94 2.06-2.06.94z\"/><path d=\"M17.41 7.96l-1.37-1.37c-.4-.4-.92-.59-1.43-.59-.52 0-1.04.2-1.43.59L10.3 9.45l-7.72 7.72c-.78.78-.78 2.05 0 2.83L4 21.41c.39.39.9.59 1.41.59.51 0 1.02-.2 1.41-.59l7.78-7.78 2.81-2.81c.8-.78.8-2.07 0-2.86zM5.41 20L4 18.59l7.72-7.72 1.47 1.35L5.41 20z\"/>\n",
              "  </svg>\n",
              "      </button>\n",
              "      \n",
              "  <style>\n",
              "    .colab-df-container {\n",
              "      display:flex;\n",
              "      flex-wrap:wrap;\n",
              "      gap: 12px;\n",
              "    }\n",
              "\n",
              "    .colab-df-convert {\n",
              "      background-color: #E8F0FE;\n",
              "      border: none;\n",
              "      border-radius: 50%;\n",
              "      cursor: pointer;\n",
              "      display: none;\n",
              "      fill: #1967D2;\n",
              "      height: 32px;\n",
              "      padding: 0 0 0 0;\n",
              "      width: 32px;\n",
              "    }\n",
              "\n",
              "    .colab-df-convert:hover {\n",
              "      background-color: #E2EBFA;\n",
              "      box-shadow: 0px 1px 2px rgba(60, 64, 67, 0.3), 0px 1px 3px 1px rgba(60, 64, 67, 0.15);\n",
              "      fill: #174EA6;\n",
              "    }\n",
              "\n",
              "    [theme=dark] .colab-df-convert {\n",
              "      background-color: #3B4455;\n",
              "      fill: #D2E3FC;\n",
              "    }\n",
              "\n",
              "    [theme=dark] .colab-df-convert:hover {\n",
              "      background-color: #434B5C;\n",
              "      box-shadow: 0px 1px 3px 1px rgba(0, 0, 0, 0.15);\n",
              "      filter: drop-shadow(0px 1px 2px rgba(0, 0, 0, 0.3));\n",
              "      fill: #FFFFFF;\n",
              "    }\n",
              "  </style>\n",
              "\n",
              "      <script>\n",
              "        const buttonEl =\n",
              "          document.querySelector('#df-c6556f42-ec3c-48cb-86de-93b93a6ad4ba button.colab-df-convert');\n",
              "        buttonEl.style.display =\n",
              "          google.colab.kernel.accessAllowed ? 'block' : 'none';\n",
              "\n",
              "        async function convertToInteractive(key) {\n",
              "          const element = document.querySelector('#df-c6556f42-ec3c-48cb-86de-93b93a6ad4ba');\n",
              "          const dataTable =\n",
              "            await google.colab.kernel.invokeFunction('convertToInteractive',\n",
              "                                                     [key], {});\n",
              "          if (!dataTable) return;\n",
              "\n",
              "          const docLinkHtml = 'Like what you see? Visit the ' +\n",
              "            '<a target=\"_blank\" href=https://colab.research.google.com/notebooks/data_table.ipynb>data table notebook</a>'\n",
              "            + ' to learn more about interactive tables.';\n",
              "          element.innerHTML = '';\n",
              "          dataTable['output_type'] = 'display_data';\n",
              "          await google.colab.output.renderOutput(dataTable, element);\n",
              "          const docLink = document.createElement('div');\n",
              "          docLink.innerHTML = docLinkHtml;\n",
              "          element.appendChild(docLink);\n",
              "        }\n",
              "      </script>\n",
              "    </div>\n",
              "  </div>\n",
              "  "
            ]
          },
          "metadata": {},
          "execution_count": 18
        }
      ]
    },
    {
      "cell_type": "markdown",
      "source": [
        "Need to determine whether a person will buy a computer or not if age is below 30, income is medium, person is student and credit rating is fair"
      ],
      "metadata": {
        "id": "IkhI472zxQQ9"
      }
    },
    {
      "cell_type": "markdown",
      "source": [
        "![Bayes_rule.png](data:image/png;base64,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)"
      ],
      "metadata": {
        "id": "AdZVEpIHOaN5"
      }
    },
    {
      "cell_type": "code",
      "source": [
        "# now we need to calculate the likelihood P(X| Buys Computer: Yes). Here X is the multiplications of features of the independent variables given Buys Computer: Yes \n",
        "def P(x_class, y_class):\n",
        "  yes_count = df[df[y_class] == 1].shape[0]\n",
        "  x_yes_count = df[(df[x_class] == 1) & (df[y_class] == 1)].shape[0]\n",
        "  P_X_given_yes = x_yes_count / yes_count\n",
        "  return P_X_given_yes"
      ],
      "metadata": {
        "id": "LI0kaQkw12LW"
      },
      "execution_count": null,
      "outputs": []
    },
    {
      "cell_type": "code",
      "source": [
        "likelihood = P('Age<30','Buy Computer') * P('M_Income','Buy Computer') * P('Is Student','Buy Computer') * P('Fair CR','Buy Computer')\n",
        "print(likelihood)"
      ],
      "metadata": {
        "colab": {
          "base_uri": "https://localhost:8080/"
        },
        "id": "M3Qq4BuL8I53",
        "outputId": "dc894fe5-64aa-44b0-80da-441830ac3831"
      },
      "execution_count": null,
      "outputs": [
        {
          "output_type": "stream",
          "name": "stdout",
          "text": [
            "0.013888888888888888\n"
          ]
        }
      ]
    },
    {
      "cell_type": "code",
      "source": [
        "predictor_prior = prior('Age<30')[1] * prior('M_Income')[1] * prior('Is Student')[1] * prior('Fair CR')[1]\n",
        "print(predictor_prior)"
      ],
      "metadata": {
        "colab": {
          "base_uri": "https://localhost:8080/",
          "height": 571
        },
        "id": "ze1Y_-XpEzOX",
        "outputId": "26eba121-af23-4da8-8fa8-e3cdcd203513"
      },
      "execution_count": null,
      "outputs": [
        {
          "output_type": "error",
          "ename": "KeyError",
          "evalue": "ignored",
          "traceback": [
            "\u001b[0;31m---------------------------------------------------------------------------\u001b[0m",
            "\u001b[0;31mKeyError\u001b[0m                                  Traceback (most recent call last)",
            "\u001b[0;32m/usr/local/lib/python3.8/dist-packages/pandas/core/indexes/base.py\u001b[0m in \u001b[0;36mget_loc\u001b[0;34m(self, key, method, tolerance)\u001b[0m\n\u001b[1;32m   3360\u001b[0m             \u001b[0;32mtry\u001b[0m\u001b[0;34m:\u001b[0m\u001b[0;34m\u001b[0m\u001b[0;34m\u001b[0m\u001b[0m\n\u001b[0;32m-> 3361\u001b[0;31m                 \u001b[0;32mreturn\u001b[0m \u001b[0mself\u001b[0m\u001b[0;34m.\u001b[0m\u001b[0m_engine\u001b[0m\u001b[0;34m.\u001b[0m\u001b[0mget_loc\u001b[0m\u001b[0;34m(\u001b[0m\u001b[0mcasted_key\u001b[0m\u001b[0;34m)\u001b[0m\u001b[0;34m\u001b[0m\u001b[0;34m\u001b[0m\u001b[0m\n\u001b[0m\u001b[1;32m   3362\u001b[0m             \u001b[0;32mexcept\u001b[0m \u001b[0mKeyError\u001b[0m \u001b[0;32mas\u001b[0m \u001b[0merr\u001b[0m\u001b[0;34m:\u001b[0m\u001b[0;34m\u001b[0m\u001b[0;34m\u001b[0m\u001b[0m\n",
            "\u001b[0;32m/usr/local/lib/python3.8/dist-packages/pandas/_libs/index.pyx\u001b[0m in \u001b[0;36mpandas._libs.index.IndexEngine.get_loc\u001b[0;34m()\u001b[0m\n",
            "\u001b[0;32m/usr/local/lib/python3.8/dist-packages/pandas/_libs/index.pyx\u001b[0m in \u001b[0;36mpandas._libs.index.IndexEngine.get_loc\u001b[0;34m()\u001b[0m\n",
            "\u001b[0;32mpandas/_libs/hashtable_class_helper.pxi\u001b[0m in \u001b[0;36mpandas._libs.hashtable.PyObjectHashTable.get_item\u001b[0;34m()\u001b[0m\n",
            "\u001b[0;32mpandas/_libs/hashtable_class_helper.pxi\u001b[0m in \u001b[0;36mpandas._libs.hashtable.PyObjectHashTable.get_item\u001b[0;34m()\u001b[0m\n",
            "\u001b[0;31mKeyError\u001b[0m: 'Age<30'",
            "\nThe above exception was the direct cause of the following exception:\n",
            "\u001b[0;31mKeyError\u001b[0m                                  Traceback (most recent call last)",
            "\u001b[0;32m<ipython-input-30-50d23f49d8ed>\u001b[0m in \u001b[0;36m<module>\u001b[0;34m\u001b[0m\n\u001b[0;32m----> 1\u001b[0;31m \u001b[0mpredictor_prior\u001b[0m \u001b[0;34m=\u001b[0m \u001b[0mprior\u001b[0m\u001b[0;34m(\u001b[0m\u001b[0;34m'Age<30'\u001b[0m\u001b[0;34m)\u001b[0m\u001b[0;34m[\u001b[0m\u001b[0;36m1\u001b[0m\u001b[0;34m]\u001b[0m \u001b[0;34m*\u001b[0m \u001b[0mprior\u001b[0m\u001b[0;34m(\u001b[0m\u001b[0;34m'M_Income'\u001b[0m\u001b[0;34m)\u001b[0m\u001b[0;34m[\u001b[0m\u001b[0;36m1\u001b[0m\u001b[0;34m]\u001b[0m \u001b[0;34m*\u001b[0m \u001b[0mprior\u001b[0m\u001b[0;34m(\u001b[0m\u001b[0;34m'Is Student'\u001b[0m\u001b[0;34m)\u001b[0m\u001b[0;34m[\u001b[0m\u001b[0;36m1\u001b[0m\u001b[0;34m]\u001b[0m \u001b[0;34m*\u001b[0m \u001b[0mprior\u001b[0m\u001b[0;34m(\u001b[0m\u001b[0;34m'Fair CR'\u001b[0m\u001b[0;34m)\u001b[0m\u001b[0;34m[\u001b[0m\u001b[0;36m1\u001b[0m\u001b[0;34m]\u001b[0m\u001b[0;34m\u001b[0m\u001b[0;34m\u001b[0m\u001b[0m\n\u001b[0m\u001b[1;32m      2\u001b[0m \u001b[0mprint\u001b[0m\u001b[0;34m(\u001b[0m\u001b[0mpredictor_prior\u001b[0m\u001b[0;34m)\u001b[0m\u001b[0;34m\u001b[0m\u001b[0;34m\u001b[0m\u001b[0m\n",
            "\u001b[0;32m<ipython-input-14-a6c280ea6972>\u001b[0m in \u001b[0;36mprior\u001b[0;34m(c)\u001b[0m\n\u001b[1;32m      1\u001b[0m \u001b[0;32mdef\u001b[0m \u001b[0mprior\u001b[0m\u001b[0;34m(\u001b[0m\u001b[0mc\u001b[0m\u001b[0;34m)\u001b[0m\u001b[0;34m:\u001b[0m\u001b[0;34m\u001b[0m\u001b[0;34m\u001b[0m\u001b[0m\n\u001b[0;32m----> 2\u001b[0;31m   \u001b[0mclass_counts\u001b[0m \u001b[0;34m=\u001b[0m \u001b[0mdf\u001b[0m\u001b[0;34m[\u001b[0m\u001b[0mc\u001b[0m\u001b[0;34m]\u001b[0m\u001b[0;34m.\u001b[0m\u001b[0mvalue_counts\u001b[0m\u001b[0;34m(\u001b[0m\u001b[0;34m)\u001b[0m\u001b[0;34m\u001b[0m\u001b[0;34m\u001b[0m\u001b[0m\n\u001b[0m\u001b[1;32m      3\u001b[0m   \u001b[0mn_samples\u001b[0m \u001b[0;34m=\u001b[0m \u001b[0mdf\u001b[0m\u001b[0;34m.\u001b[0m\u001b[0mshape\u001b[0m\u001b[0;34m[\u001b[0m\u001b[0;36m0\u001b[0m\u001b[0;34m]\u001b[0m\u001b[0;34m\u001b[0m\u001b[0;34m\u001b[0m\u001b[0m\n\u001b[1;32m      4\u001b[0m   \u001b[0mpriors\u001b[0m \u001b[0;34m=\u001b[0m \u001b[0mclass_counts\u001b[0m \u001b[0;34m/\u001b[0m \u001b[0mn_samples\u001b[0m\u001b[0;34m\u001b[0m\u001b[0;34m\u001b[0m\u001b[0m\n\u001b[1;32m      5\u001b[0m   \u001b[0;32mreturn\u001b[0m \u001b[0mpriors\u001b[0m\u001b[0;34m\u001b[0m\u001b[0;34m\u001b[0m\u001b[0m\n",
            "\u001b[0;32m/usr/local/lib/python3.8/dist-packages/pandas/core/frame.py\u001b[0m in \u001b[0;36m__getitem__\u001b[0;34m(self, key)\u001b[0m\n\u001b[1;32m   3456\u001b[0m             \u001b[0;32mif\u001b[0m \u001b[0mself\u001b[0m\u001b[0;34m.\u001b[0m\u001b[0mcolumns\u001b[0m\u001b[0;34m.\u001b[0m\u001b[0mnlevels\u001b[0m \u001b[0;34m>\u001b[0m \u001b[0;36m1\u001b[0m\u001b[0;34m:\u001b[0m\u001b[0;34m\u001b[0m\u001b[0;34m\u001b[0m\u001b[0m\n\u001b[1;32m   3457\u001b[0m                 \u001b[0;32mreturn\u001b[0m \u001b[0mself\u001b[0m\u001b[0;34m.\u001b[0m\u001b[0m_getitem_multilevel\u001b[0m\u001b[0;34m(\u001b[0m\u001b[0mkey\u001b[0m\u001b[0;34m)\u001b[0m\u001b[0;34m\u001b[0m\u001b[0;34m\u001b[0m\u001b[0m\n\u001b[0;32m-> 3458\u001b[0;31m             \u001b[0mindexer\u001b[0m \u001b[0;34m=\u001b[0m \u001b[0mself\u001b[0m\u001b[0;34m.\u001b[0m\u001b[0mcolumns\u001b[0m\u001b[0;34m.\u001b[0m\u001b[0mget_loc\u001b[0m\u001b[0;34m(\u001b[0m\u001b[0mkey\u001b[0m\u001b[0;34m)\u001b[0m\u001b[0;34m\u001b[0m\u001b[0;34m\u001b[0m\u001b[0m\n\u001b[0m\u001b[1;32m   3459\u001b[0m             \u001b[0;32mif\u001b[0m \u001b[0mis_integer\u001b[0m\u001b[0;34m(\u001b[0m\u001b[0mindexer\u001b[0m\u001b[0;34m)\u001b[0m\u001b[0;34m:\u001b[0m\u001b[0;34m\u001b[0m\u001b[0;34m\u001b[0m\u001b[0m\n\u001b[1;32m   3460\u001b[0m                 \u001b[0mindexer\u001b[0m \u001b[0;34m=\u001b[0m \u001b[0;34m[\u001b[0m\u001b[0mindexer\u001b[0m\u001b[0;34m]\u001b[0m\u001b[0;34m\u001b[0m\u001b[0;34m\u001b[0m\u001b[0m\n",
            "\u001b[0;32m/usr/local/lib/python3.8/dist-packages/pandas/core/indexes/base.py\u001b[0m in \u001b[0;36mget_loc\u001b[0;34m(self, key, method, tolerance)\u001b[0m\n\u001b[1;32m   3361\u001b[0m                 \u001b[0;32mreturn\u001b[0m \u001b[0mself\u001b[0m\u001b[0;34m.\u001b[0m\u001b[0m_engine\u001b[0m\u001b[0;34m.\u001b[0m\u001b[0mget_loc\u001b[0m\u001b[0;34m(\u001b[0m\u001b[0mcasted_key\u001b[0m\u001b[0;34m)\u001b[0m\u001b[0;34m\u001b[0m\u001b[0;34m\u001b[0m\u001b[0m\n\u001b[1;32m   3362\u001b[0m             \u001b[0;32mexcept\u001b[0m \u001b[0mKeyError\u001b[0m \u001b[0;32mas\u001b[0m \u001b[0merr\u001b[0m\u001b[0;34m:\u001b[0m\u001b[0;34m\u001b[0m\u001b[0;34m\u001b[0m\u001b[0m\n\u001b[0;32m-> 3363\u001b[0;31m                 \u001b[0;32mraise\u001b[0m \u001b[0mKeyError\u001b[0m\u001b[0;34m(\u001b[0m\u001b[0mkey\u001b[0m\u001b[0;34m)\u001b[0m \u001b[0;32mfrom\u001b[0m \u001b[0merr\u001b[0m\u001b[0;34m\u001b[0m\u001b[0;34m\u001b[0m\u001b[0m\n\u001b[0m\u001b[1;32m   3364\u001b[0m \u001b[0;34m\u001b[0m\u001b[0m\n\u001b[1;32m   3365\u001b[0m         \u001b[0;32mif\u001b[0m \u001b[0mis_scalar\u001b[0m\u001b[0;34m(\u001b[0m\u001b[0mkey\u001b[0m\u001b[0;34m)\u001b[0m \u001b[0;32mand\u001b[0m \u001b[0misna\u001b[0m\u001b[0;34m(\u001b[0m\u001b[0mkey\u001b[0m\u001b[0;34m)\u001b[0m \u001b[0;32mand\u001b[0m \u001b[0;32mnot\u001b[0m \u001b[0mself\u001b[0m\u001b[0;34m.\u001b[0m\u001b[0mhasnans\u001b[0m\u001b[0;34m:\u001b[0m\u001b[0;34m\u001b[0m\u001b[0;34m\u001b[0m\u001b[0m\n",
            "\u001b[0;31mKeyError\u001b[0m: 'Age<30'"
          ]
        }
      ]
    },
    {
      "cell_type": "code",
      "source": [
        "posterior_probability = (likelihood * p_buysComputer['Yes'] ) \n",
        "print(posterior_probability)"
      ],
      "metadata": {
        "colab": {
          "base_uri": "https://localhost:8080/"
        },
        "id": "INqApYDZ8TJH",
        "outputId": "5752fc72-9631-434d-ab24-5501e671e978"
      },
      "execution_count": null,
      "outputs": [
        {
          "output_type": "stream",
          "name": "stdout",
          "text": [
            "0.000272162693172902\n"
          ]
        }
      ]
    },
    {
      "cell_type": "markdown",
      "source": [
        "**What if you consider the Age as numerical value instead of categorical range ?**"
      ],
      "metadata": {
        "id": "E-EwA9psUT-o"
      }
    },
    {
      "cell_type": "code",
      "source": [
        "df = pd.read_csv(\"sample_nb.csv\")\n",
        "df"
      ],
      "metadata": {
        "colab": {
          "base_uri": "https://localhost:8080/",
          "height": 363
        },
        "id": "RqiADjCHLc3Q",
        "outputId": "4d470739-6963-47f5-8ccf-9843ee0fde1b"
      },
      "execution_count": null,
      "outputs": [
        {
          "output_type": "execute_result",
          "data": {
            "text/plain": [
              "   Sl  Age  Income Student Credit Rating Buys Computer\n",
              "0   1   35  Medium     Yes          Fair           Yes\n",
              "1   2   30    High      No       Average            No\n",
              "2   3   40     Low     Yes          Good            No\n",
              "3   4   35  Medium      No          Fair           Yes\n",
              "4   5   45     Low      No          Fair           Yes\n",
              "5   6   35    High      No     Excellent           Yes\n",
              "6   7   35  Medium      No          Good            No\n",
              "7   8   25     Low      No          Good           Yes\n",
              "8   9   28    High      No       Average            No\n",
              "9  10   35  Medium     Yes       Average           Yes"
            ],
            "text/html": [
              "\n",
              "  <div id=\"df-cf6f782f-e312-4425-845d-78a19216436d\">\n",
              "    <div class=\"colab-df-container\">\n",
              "      <div>\n",
              "<style scoped>\n",
              "    .dataframe tbody tr th:only-of-type {\n",
              "        vertical-align: middle;\n",
              "    }\n",
              "\n",
              "    .dataframe tbody tr th {\n",
              "        vertical-align: top;\n",
              "    }\n",
              "\n",
              "    .dataframe thead th {\n",
              "        text-align: right;\n",
              "    }\n",
              "</style>\n",
              "<table border=\"1\" class=\"dataframe\">\n",
              "  <thead>\n",
              "    <tr style=\"text-align: right;\">\n",
              "      <th></th>\n",
              "      <th>Sl</th>\n",
              "      <th>Age</th>\n",
              "      <th>Income</th>\n",
              "      <th>Student</th>\n",
              "      <th>Credit Rating</th>\n",
              "      <th>Buys Computer</th>\n",
              "    </tr>\n",
              "  </thead>\n",
              "  <tbody>\n",
              "    <tr>\n",
              "      <th>0</th>\n",
              "      <td>1</td>\n",
              "      <td>35</td>\n",
              "      <td>Medium</td>\n",
              "      <td>Yes</td>\n",
              "      <td>Fair</td>\n",
              "      <td>Yes</td>\n",
              "    </tr>\n",
              "    <tr>\n",
              "      <th>1</th>\n",
              "      <td>2</td>\n",
              "      <td>30</td>\n",
              "      <td>High</td>\n",
              "      <td>No</td>\n",
              "      <td>Average</td>\n",
              "      <td>No</td>\n",
              "    </tr>\n",
              "    <tr>\n",
              "      <th>2</th>\n",
              "      <td>3</td>\n",
              "      <td>40</td>\n",
              "      <td>Low</td>\n",
              "      <td>Yes</td>\n",
              "      <td>Good</td>\n",
              "      <td>No</td>\n",
              "    </tr>\n",
              "    <tr>\n",
              "      <th>3</th>\n",
              "      <td>4</td>\n",
              "      <td>35</td>\n",
              "      <td>Medium</td>\n",
              "      <td>No</td>\n",
              "      <td>Fair</td>\n",
              "      <td>Yes</td>\n",
              "    </tr>\n",
              "    <tr>\n",
              "      <th>4</th>\n",
              "      <td>5</td>\n",
              "      <td>45</td>\n",
              "      <td>Low</td>\n",
              "      <td>No</td>\n",
              "      <td>Fair</td>\n",
              "      <td>Yes</td>\n",
              "    </tr>\n",
              "    <tr>\n",
              "      <th>5</th>\n",
              "      <td>6</td>\n",
              "      <td>35</td>\n",
              "      <td>High</td>\n",
              "      <td>No</td>\n",
              "      <td>Excellent</td>\n",
              "      <td>Yes</td>\n",
              "    </tr>\n",
              "    <tr>\n",
              "      <th>6</th>\n",
              "      <td>7</td>\n",
              "      <td>35</td>\n",
              "      <td>Medium</td>\n",
              "      <td>No</td>\n",
              "      <td>Good</td>\n",
              "      <td>No</td>\n",
              "    </tr>\n",
              "    <tr>\n",
              "      <th>7</th>\n",
              "      <td>8</td>\n",
              "      <td>25</td>\n",
              "      <td>Low</td>\n",
              "      <td>No</td>\n",
              "      <td>Good</td>\n",
              "      <td>Yes</td>\n",
              "    </tr>\n",
              "    <tr>\n",
              "      <th>8</th>\n",
              "      <td>9</td>\n",
              "      <td>28</td>\n",
              "      <td>High</td>\n",
              "      <td>No</td>\n",
              "      <td>Average</td>\n",
              "      <td>No</td>\n",
              "    </tr>\n",
              "    <tr>\n",
              "      <th>9</th>\n",
              "      <td>10</td>\n",
              "      <td>35</td>\n",
              "      <td>Medium</td>\n",
              "      <td>Yes</td>\n",
              "      <td>Average</td>\n",
              "      <td>Yes</td>\n",
              "    </tr>\n",
              "  </tbody>\n",
              "</table>\n",
              "</div>\n",
              "      <button class=\"colab-df-convert\" onclick=\"convertToInteractive('df-cf6f782f-e312-4425-845d-78a19216436d')\"\n",
              "              title=\"Convert this dataframe to an interactive table.\"\n",
              "              style=\"display:none;\">\n",
              "        \n",
              "  <svg xmlns=\"http://www.w3.org/2000/svg\" height=\"24px\"viewBox=\"0 0 24 24\"\n",
              "       width=\"24px\">\n",
              "    <path d=\"M0 0h24v24H0V0z\" fill=\"none\"/>\n",
              "    <path d=\"M18.56 5.44l.94 2.06.94-2.06 2.06-.94-2.06-.94-.94-2.06-.94 2.06-2.06.94zm-11 1L8.5 8.5l.94-2.06 2.06-.94-2.06-.94L8.5 2.5l-.94 2.06-2.06.94zm10 10l.94 2.06.94-2.06 2.06-.94-2.06-.94-.94-2.06-.94 2.06-2.06.94z\"/><path d=\"M17.41 7.96l-1.37-1.37c-.4-.4-.92-.59-1.43-.59-.52 0-1.04.2-1.43.59L10.3 9.45l-7.72 7.72c-.78.78-.78 2.05 0 2.83L4 21.41c.39.39.9.59 1.41.59.51 0 1.02-.2 1.41-.59l7.78-7.78 2.81-2.81c.8-.78.8-2.07 0-2.86zM5.41 20L4 18.59l7.72-7.72 1.47 1.35L5.41 20z\"/>\n",
              "  </svg>\n",
              "      </button>\n",
              "      \n",
              "  <style>\n",
              "    .colab-df-container {\n",
              "      display:flex;\n",
              "      flex-wrap:wrap;\n",
              "      gap: 12px;\n",
              "    }\n",
              "\n",
              "    .colab-df-convert {\n",
              "      background-color: #E8F0FE;\n",
              "      border: none;\n",
              "      border-radius: 50%;\n",
              "      cursor: pointer;\n",
              "      display: none;\n",
              "      fill: #1967D2;\n",
              "      height: 32px;\n",
              "      padding: 0 0 0 0;\n",
              "      width: 32px;\n",
              "    }\n",
              "\n",
              "    .colab-df-convert:hover {\n",
              "      background-color: #E2EBFA;\n",
              "      box-shadow: 0px 1px 2px rgba(60, 64, 67, 0.3), 0px 1px 3px 1px rgba(60, 64, 67, 0.15);\n",
              "      fill: #174EA6;\n",
              "    }\n",
              "\n",
              "    [theme=dark] .colab-df-convert {\n",
              "      background-color: #3B4455;\n",
              "      fill: #D2E3FC;\n",
              "    }\n",
              "\n",
              "    [theme=dark] .colab-df-convert:hover {\n",
              "      background-color: #434B5C;\n",
              "      box-shadow: 0px 1px 3px 1px rgba(0, 0, 0, 0.15);\n",
              "      filter: drop-shadow(0px 1px 2px rgba(0, 0, 0, 0.3));\n",
              "      fill: #FFFFFF;\n",
              "    }\n",
              "  </style>\n",
              "\n",
              "      <script>\n",
              "        const buttonEl =\n",
              "          document.querySelector('#df-cf6f782f-e312-4425-845d-78a19216436d button.colab-df-convert');\n",
              "        buttonEl.style.display =\n",
              "          google.colab.kernel.accessAllowed ? 'block' : 'none';\n",
              "\n",
              "        async function convertToInteractive(key) {\n",
              "          const element = document.querySelector('#df-cf6f782f-e312-4425-845d-78a19216436d');\n",
              "          const dataTable =\n",
              "            await google.colab.kernel.invokeFunction('convertToInteractive',\n",
              "                                                     [key], {});\n",
              "          if (!dataTable) return;\n",
              "\n",
              "          const docLinkHtml = 'Like what you see? Visit the ' +\n",
              "            '<a target=\"_blank\" href=https://colab.research.google.com/notebooks/data_table.ipynb>data table notebook</a>'\n",
              "            + ' to learn more about interactive tables.';\n",
              "          element.innerHTML = '';\n",
              "          dataTable['output_type'] = 'display_data';\n",
              "          await google.colab.output.renderOutput(dataTable, element);\n",
              "          const docLink = document.createElement('div');\n",
              "          docLink.innerHTML = docLinkHtml;\n",
              "          element.appendChild(docLink);\n",
              "        }\n",
              "      </script>\n",
              "    </div>\n",
              "  </div>\n",
              "  "
            ]
          },
          "metadata": {},
          "execution_count": 23
        }
      ]
    },
    {
      "cell_type": "code",
      "source": [
        "prior_prob = prior('Buys Computer')\n",
        "print(prior_prob)"
      ],
      "metadata": {
        "colab": {
          "base_uri": "https://localhost:8080/"
        },
        "id": "YBrP_S1tU_MZ",
        "outputId": "7017d5da-4fa8-4f99-868d-a48c138dd2c0"
      },
      "execution_count": null,
      "outputs": [
        {
          "output_type": "stream",
          "name": "stdout",
          "text": [
            "Yes    0.6\n",
            "No     0.4\n",
            "Name: Buys Computer, dtype: float64\n"
          ]
        }
      ]
    },
    {
      "cell_type": "code",
      "source": [
        "# now we need to calculate the likelihood P(X| Buys Computer: Yes). Here X is the multiplications of features of the independent variables given Buys Computer: Yes \n",
        "def P(x_class, x_value, y_class, y_value):\n",
        "  yes_count = df[df[y_class] == y_value].shape[0]\n",
        "  x_yes_count = df[(df[x_class] == x_value) & (df[y_class] == y_value)].shape[0]\n",
        "  P_X_given_yes = x_yes_count / yes_count\n",
        "  return P_X_given_yes\n",
        "\n",
        "#In Gaussion Distribution we need a different method so that we can calculate the numerical value to categorical counterparts \n",
        "def mean(x_class, y_class, y_value):\n",
        "  filtered_df = df.loc[df[y_class] == y_value]\n",
        "  result = filtered_df[x_class].sum() / df[df[y_class] == y_value].shape[0]\n",
        "  return result\n",
        "\n",
        "def sd(x_class, y_class, y_value):\n",
        "  m = mean(x_class, y_class, y_value)\n",
        "  filtered_df = df.loc[df[y_class] == y_value]\n",
        "  filtered_df[x_class] = (filtered_df[x_class] - m) ** 2\n",
        "\n",
        "  sum = filtered_df[x_class].sum()\n",
        "  result = sum / (df[df[y_class] == y_value].shape[0] - 1)\n",
        "  return math.sqrt(result)\n",
        "\n",
        "def P_num(x_class, x_value, y_class, y_value):\n",
        "  s = sd(x_class, y_class, y_value)\n",
        "  print('SD', s)\n",
        "  m = mean(x_class, y_class, y_value)\n",
        "  print('Mean', m)\n",
        "  e = -1*math.pow(float(x_value)-m,2)/(2 * math.pow(s,2))\n",
        "  print('e', e)\n",
        "  result = 1 / (s*math.sqrt(2*math.pi))\n",
        "  result = math.exp(e)*result\n",
        "  return result\n",
        "\n"
      ],
      "metadata": {
        "id": "gxJc8gHgWDaJ"
      },
      "execution_count": null,
      "outputs": []
    },
    {
      "cell_type": "code",
      "source": [
        "likelihood = P_num('Age', '21', 'Buys Computer', 'Yes') * P('Income','Medium','Buys Computer','Yes') * P('Student','Yes','Buys Computer','Yes') * P('Credit Rating','Fair','Buys Computer','Yes')\n",
        "print('Likelihood', likelihood)"
      ],
      "metadata": {
        "colab": {
          "base_uri": "https://localhost:8080/"
        },
        "id": "e0vN3A7ydxKJ",
        "outputId": "b3ad7329-4a62-4b70-fe64-05696eef45f7"
      },
      "execution_count": null,
      "outputs": [
        {
          "output_type": "stream",
          "name": "stdout",
          "text": [
            "SD 6.324555320336759\n",
            "Mean 35.0\n",
            "e -2.4499999999999997\n",
            "Likelihood 0.00045360448862150337\n"
          ]
        },
        {
          "output_type": "stream",
          "name": "stderr",
          "text": [
            "<ipython-input-26-9dc8e51590fc>:17: SettingWithCopyWarning: \n",
            "A value is trying to be set on a copy of a slice from a DataFrame.\n",
            "Try using .loc[row_indexer,col_indexer] = value instead\n",
            "\n",
            "See the caveats in the documentation: https://pandas.pydata.org/pandas-docs/stable/user_guide/indexing.html#returning-a-view-versus-a-copy\n",
            "  filtered_df[x_class] = (filtered_df[x_class] - m) ** 2\n"
          ]
        }
      ]
    },
    {
      "cell_type": "code",
      "source": [],
      "metadata": {
        "id": "kBabCFnRn4sn"
      },
      "execution_count": null,
      "outputs": []
    },
    {
      "cell_type": "code",
      "source": [
        "posterior_probability = likelihood * prior_prob['Yes'] / predictor_prior\n",
        "print(posterior_probability)"
      ],
      "metadata": {
        "colab": {
          "base_uri": "https://localhost:8080/"
        },
        "id": "0R_n8mE3rwPB",
        "outputId": "8a4220ef-1e7e-4423-a421-9ef90680e8fb"
      },
      "execution_count": null,
      "outputs": [
        {
          "output_type": "stream",
          "name": "stdout",
          "text": [
            "0.03780037405179194\n"
          ]
        }
      ]
    },
    {
      "cell_type": "code",
      "source": [],
      "metadata": {
        "id": "4qlq748VXf77"
      },
      "execution_count": null,
      "outputs": []
    },
    {
      "cell_type": "markdown",
      "source": [
        "**Using Sklearn to E-Mail classification**"
      ],
      "metadata": {
        "id": "4zNeJOYxsvx5"
      }
    },
    {
      "cell_type": "code",
      "source": [
        "import pandas as pd\n",
        "import numpy as np\n",
        "import matplotlib.pyplot as plt\n",
        "import seaborn as sns\n",
        "\n",
        "#For data preprocessing\n",
        "from sklearn.feature_extraction.text import CountVectorizer\n",
        "from sklearn.model_selection import train_test_split\n",
        "\n",
        "#For model creation and training\n",
        "from sklearn.naive_bayes import MultinomialNB\n",
        "\n",
        "#For model evaluation\n",
        "from sklearn.metrics import classification_report, confusion_matrix"
      ],
      "metadata": {
        "id": "Da0yEKq6tA1z"
      },
      "execution_count": null,
      "outputs": []
    },
    {
      "cell_type": "code",
      "source": [
        "file_train = 'SMS_train.csv'\n",
        "file_test = 'SMS_test.csv'\n",
        "\n",
        "df_train = pd.read_csv(file_train, encoding = 'cp1252')\n",
        "df_test = pd.read_csv(file_test, encoding = 'cp1252')"
      ],
      "metadata": {
        "id": "OC-SqQ7SsOrh"
      },
      "execution_count": null,
      "outputs": []
    },
    {
      "cell_type": "code",
      "source": [
        "print(df_train.head())\n",
        "print(df_train.shape)"
      ],
      "metadata": {
        "colab": {
          "base_uri": "https://localhost:8080/"
        },
        "id": "NJec8D6PtFk6",
        "outputId": "22ef4906-a1b6-4ac3-e219-09421ddd84c9"
      },
      "execution_count": null,
      "outputs": [
        {
          "output_type": "stream",
          "name": "stdout",
          "text": [
            "   S. No.                                       Message_body     Label\n",
            "0       1                         Rofl. Its true to its name  Non-Spam\n",
            "1       2  The guy did some bitching but I acted like i'd...  Non-Spam\n",
            "2       3  Pity, * was in mood for that. So...any other s...  Non-Spam\n",
            "3       4               Will ü b going to esplanade fr home?  Non-Spam\n",
            "4       5  This is the 2nd time we have tried 2 contact u...      Spam\n",
            "(957, 3)\n"
          ]
        }
      ]
    },
    {
      "cell_type": "code",
      "source": [
        "print(df_test.head())\n",
        "print(df_test.shape)"
      ],
      "metadata": {
        "colab": {
          "base_uri": "https://localhost:8080/"
        },
        "id": "mGe5QD6rxjHT",
        "outputId": "ef5cd97a-0a58-463c-b6ff-668fd9dc171d"
      },
      "execution_count": null,
      "outputs": [
        {
          "output_type": "stream",
          "name": "stdout",
          "text": [
            "   S. No.                                       Message_body Label\n",
            "0       1  UpgrdCentre Orange customer, you may now claim...  Spam\n",
            "1       2  Loan for any purpose £500 - £75,000. Homeowner...  Spam\n",
            "2       3  Congrats! Nokia 3650 video camera phone is you...  Spam\n",
            "3       4  URGENT! Your Mobile number has been awarded wi...  Spam\n",
            "4       5  Someone has contacted our dating service and e...  Spam\n",
            "(125, 3)\n"
          ]
        }
      ]
    },
    {
      "cell_type": "code",
      "source": [
        "df_train['y'] = pd.Categorical(df_train['Label']).codes\n",
        "print(df_train.head())\n",
        "print(df_train.shape)"
      ],
      "metadata": {
        "colab": {
          "base_uri": "https://localhost:8080/"
        },
        "id": "lUy4kwW4txE5",
        "outputId": "917bf86c-5a4d-4129-f109-fa2468547e5b"
      },
      "execution_count": null,
      "outputs": [
        {
          "output_type": "stream",
          "name": "stdout",
          "text": [
            "   S. No.                                       Message_body     Label  y\n",
            "0       1                         Rofl. Its true to its name  Non-Spam  0\n",
            "1       2  The guy did some bitching but I acted like i'd...  Non-Spam  0\n",
            "2       3  Pity, * was in mood for that. So...any other s...  Non-Spam  0\n",
            "3       4               Will ü b going to esplanade fr home?  Non-Spam  0\n",
            "4       5  This is the 2nd time we have tried 2 contact u...      Spam  1\n",
            "(957, 4)\n"
          ]
        }
      ]
    },
    {
      "cell_type": "code",
      "source": [
        "df_test['y'] = pd.Categorical(df_test['Label']).codes\n",
        "print(df_test.head())\n",
        "print(df_test.shape)"
      ],
      "metadata": {
        "colab": {
          "base_uri": "https://localhost:8080/"
        },
        "id": "7kilkhmeuxz5",
        "outputId": "ce2e3ed3-cc60-4b00-c6c3-c9f7974cc830"
      },
      "execution_count": null,
      "outputs": [
        {
          "output_type": "stream",
          "name": "stdout",
          "text": [
            "   S. No.                                       Message_body Label  y\n",
            "0       1  UpgrdCentre Orange customer, you may now claim...  Spam  1\n",
            "1       2  Loan for any purpose £500 - £75,000. Homeowner...  Spam  1\n",
            "2       3  Congrats! Nokia 3650 video camera phone is you...  Spam  1\n",
            "3       4  URGENT! Your Mobile number has been awarded wi...  Spam  1\n",
            "4       5  Someone has contacted our dating service and e...  Spam  1\n",
            "(125, 4)\n"
          ]
        }
      ]
    },
    {
      "cell_type": "code",
      "source": [
        "df_test.info()"
      ],
      "metadata": {
        "colab": {
          "base_uri": "https://localhost:8080/"
        },
        "id": "RrPQUZdt2fq8",
        "outputId": "779f7635-3aca-4c97-f5f5-4874d7c0f45e"
      },
      "execution_count": null,
      "outputs": [
        {
          "output_type": "stream",
          "name": "stdout",
          "text": [
            "<class 'pandas.core.frame.DataFrame'>\n",
            "RangeIndex: 125 entries, 0 to 124\n",
            "Data columns (total 4 columns):\n",
            " #   Column        Non-Null Count  Dtype \n",
            "---  ------        --------------  ----- \n",
            " 0   S. No.        125 non-null    int64 \n",
            " 1   Message_body  125 non-null    object\n",
            " 2   Label         125 non-null    object\n",
            " 3   y             125 non-null    int8  \n",
            "dtypes: int64(1), int8(1), object(2)\n",
            "memory usage: 3.2+ KB\n"
          ]
        }
      ]
    },
    {
      "cell_type": "code",
      "source": [
        "sns.countplot(df_train['Label'])"
      ],
      "metadata": {
        "colab": {
          "base_uri": "https://localhost:8080/",
          "height": 351
        },
        "id": "jpC6OodB2gY-",
        "outputId": "36ef0c6b-0436-4e63-a2de-5846b8f01898"
      },
      "execution_count": null,
      "outputs": [
        {
          "output_type": "stream",
          "name": "stderr",
          "text": [
            "/usr/local/lib/python3.8/dist-packages/seaborn/_decorators.py:36: FutureWarning: Pass the following variable as a keyword arg: x. From version 0.12, the only valid positional argument will be `data`, and passing other arguments without an explicit keyword will result in an error or misinterpretation.\n",
            "  warnings.warn(\n"
          ]
        },
        {
          "output_type": "execute_result",
          "data": {
            "text/plain": [
              "<matplotlib.axes._subplots.AxesSubplot at 0x7fc5700a4be0>"
            ]
          },
          "metadata": {},
          "execution_count": 123
        },
        {
          "output_type": "display_data",
          "data": {
            "text/plain": [
              "<Figure size 432x288 with 1 Axes>"
            ],
            "image/png": "[encoded data removed]"
          },
          "metadata": {
            "needs_background": "light"
          }
        }
      ]
    },
    {
      "cell_type": "code",
      "source": [
        " df = pd.concat([df_train,df_test], ignore_index=False, axis=0)\n",
        " df.shape"
      ],
      "metadata": {
        "colab": {
          "base_uri": "https://localhost:8080/"
        },
        "id": "QgJCAhxn2jc6",
        "outputId": "78d0be4f-f70a-4da6-97dd-c63d7c5dfe77"
      },
      "execution_count": null,
      "outputs": [
        {
          "output_type": "execute_result",
          "data": {
            "text/plain": [
              "(1082, 4)"
            ]
          },
          "metadata": {},
          "execution_count": 128
        }
      ]
    },
    {
      "cell_type": "code",
      "source": [
        "y = df['y'].values\n",
        "y.shape"
      ],
      "metadata": {
        "colab": {
          "base_uri": "https://localhost:8080/"
        },
        "id": "22MlzUPL2s-k",
        "outputId": "8f2bda61-ce7e-45bc-f587-f0ea6458b896"
      },
      "execution_count": null,
      "outputs": [
        {
          "output_type": "execute_result",
          "data": {
            "text/plain": [
              "(1082,)"
            ]
          },
          "metadata": {},
          "execution_count": 129
        }
      ]
    },
    {
      "cell_type": "code",
      "source": [
        "vectorizer = CountVectorizer()\n",
        "spamham_countVector = vectorizer.fit_transform(df['Message_body'])\n",
        "spamham_countVector.shape"
      ],
      "metadata": {
        "colab": {
          "base_uri": "https://localhost:8080/"
        },
        "id": "kDFbMZwF2xVa",
        "outputId": "4d5da8eb-62ff-4fcb-c433-d8f084ba829a"
      },
      "execution_count": null,
      "outputs": [
        {
          "output_type": "execute_result",
          "data": {
            "text/plain": [
              "(1082, 3527)"
            ]
          },
          "metadata": {},
          "execution_count": 132
        }
      ]
    },
    {
      "cell_type": "code",
      "source": [
        "X_train, X_test, y_train, y_test = train_test_split(spamham_countVector, y, test_size = 0.2)\n",
        "print(X_train.shape)\n",
        "print(y_train.shape)\n",
        "print(X_test.shape)\n",
        "print(y_test.shape)"
      ],
      "metadata": {
        "colab": {
          "base_uri": "https://localhost:8080/"
        },
        "id": "zr2jXFhI2zmD",
        "outputId": "ed5d9f2f-4051-4b48-f2b8-3c03e60a6324"
      },
      "execution_count": null,
      "outputs": [
        {
          "output_type": "stream",
          "name": "stdout",
          "text": [
            "(865, 3527)\n",
            "(865,)\n",
            "(217, 3527)\n",
            "(217,)\n"
          ]
        }
      ]
    },
    {
      "cell_type": "code",
      "source": [
        "NB_classifier = MultinomialNB()\n",
        "NB_classifier.fit(X_train,y_train)"
      ],
      "metadata": {
        "colab": {
          "base_uri": "https://localhost:8080/"
        },
        "id": "MjJVGRNA26Fq",
        "outputId": "35a2f073-001f-4795-9938-5552566a4696"
      },
      "execution_count": null,
      "outputs": [
        {
          "output_type": "execute_result",
          "data": {
            "text/plain": [
              "MultinomialNB()"
            ]
          },
          "metadata": {},
          "execution_count": 135
        }
      ]
    },
    {
      "cell_type": "code",
      "source": [
        "y_pred = NB_classifier.predict(X_test)\n",
        "cm = confusion_matrix(y_test, y_pred)\n",
        "#sns.heatmap(cm, annot=True)"
      ],
      "metadata": {
        "id": "r9flwxzJ3BIi"
      },
      "execution_count": null,
      "outputs": []
    },
    {
      "cell_type": "code",
      "source": [
        "print(classification_report(y_test, y_pred))"
      ],
      "metadata": {
        "id": "gCatWqTa3Bc6",
        "outputId": "0dcf9ed9-322e-48d9-d4d2-a14983250f15",
        "colab": {
          "base_uri": "https://localhost:8080/"
        }
      },
      "execution_count": null,
      "outputs": [
        {
          "output_type": "stream",
          "name": "stdout",
          "text": [
            "              precision    recall  f1-score   support\n",
            "\n",
            "           0       0.99      0.97      0.98       180\n",
            "           1       0.88      0.97      0.92        37\n",
            "\n",
            "    accuracy                           0.97       217\n",
            "   macro avg       0.94      0.97      0.95       217\n",
            "weighted avg       0.97      0.97      0.97       217\n",
            "\n"
          ]
        }
      ]
    },
    {
      "cell_type": "code",
      "source": [],
      "metadata": {
        "id": "zVot0jhP3DPK"
      },
      "execution_count": null,
      "outputs": []
    }
  ]
}